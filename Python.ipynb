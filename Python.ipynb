{
 "cells": [
  {
   "cell_type": "markdown",
   "metadata": {},
   "source": [
    "# Python"
   ]
  },
  {
   "cell_type": "markdown",
   "metadata": {},
   "source": [
    "Le langage Python a été créé à la fin des années 1980, à l'Institue nationale des recherches des mathématiques et informatiques de Hollande (le CWI) par Guido Von Rossum.\n",
    "\n",
    "Python est un langage de programmation objet interprété , open source et il est disponible sur différentes plates-formes courantes (BeOS, Mac OS X, Unix, Windows). \n",
    "\n",
    "Python est développé et utilisé par une large communauté : 300 000 utilisateurs et plus de 500 000 téléchargements par an.\n",
    "\n",
    "Pour voir plus d'informations vous pouvez consulter le site web suivant :[histoire python](http://leaderswithouttitle.github.io/PythonLWT/History.html)"
   ]
  },
  {
   "cell_type": "markdown",
   "metadata": {},
   "source": [
    "### Chaines de caractères"
   ]
  },
  {
   "cell_type": "code",
   "execution_count": 27,
   "metadata": {},
   "outputs": [
    {
     "name": "stdout",
     "output_type": "stream",
     "text": [
      "Bonjour, j'apprends python\n",
      "Python est un language de programmation \n",
      "taille de la première phrase :  26\n",
      "phrase en majuscule :  BONJOUR, J'APPRENDS PYTHON\n",
      "phrase en minuscule :  bonjour, j'apprends python\n",
      "phrase en minuscule :  Bonjour, J'Apprends Python\n",
      "indice d'un mot/lettre :  12\n",
      "Bonjour, j'ajjrends jython\n"
     ]
    }
   ],
   "source": [
    "# Chaine de charactère : \n",
    "phrase = 'Bonjour, j\\'apprends python'\n",
    "phrase1 = \"Python est un language de programmation \"\n",
    "\n",
    "# Afficher\n",
    "print(phrase)\n",
    "print(phrase1)\n",
    "\n",
    "# taille : \n",
    "  ## len() ne compte pas les espaces et les caractère, elle compte les alphabets\n",
    "print(\"taille de la première phrase : \",len(phrase))\n",
    "\n",
    "# Majuscule \n",
    "print(\"phrase en majuscule : \", phrase.upper())\n",
    "# Minuscule\n",
    "print(\"phrase en minuscule : \", phrase.lower())\n",
    "# Titre\n",
    "print(\"phrase en minuscule : \", phrase.title())\n",
    "\n",
    "print(\"indice d'un mot/lettre : \", phrase.find('p'))\n",
    "\n",
    "print(phrase.replace(\"p\",\"j\"))\n"
   ]
  },
  {
   "cell_type": "markdown",
   "metadata": {},
   "source": [
    "### Opérations arithmétiques"
   ]
  },
  {
   "cell_type": "code",
   "execution_count": 28,
   "metadata": {},
   "outputs": [
    {
     "name": "stdout",
     "output_type": "stream",
     "text": [
      "10 + 3 = 13\n",
      "10 - 3 = 7\n",
      "10 * 3 = 30\n",
      "10 // 3 = 3\n",
      "10 / 3 = 3.3333333333333335\n",
      "10 % 3 = 1\n",
      "10 ** 3 = 1000\n"
     ]
    }
   ],
   "source": [
    "# Addition\n",
    "print('10 + 3 =', 10 + 3)\n",
    "\n",
    "#Soustraction\n",
    "print('10 - 3 =',10 - 3)\n",
    "\n",
    "#Multiplication\n",
    "print('10 * 3 =',10 * 3)\n",
    "\n",
    "#Division euclidienne\n",
    "print('10 // 3 =',10 // 3)\n",
    "\n",
    "#Division \n",
    "print('10 / 3 =',10 / 3)\n",
    "\n",
    "#Modulo(reste de la division)\n",
    "print('10 % 3 =',10 % 3)\n",
    "\n",
    "# exponentiation\n",
    "print('10 ** 3 =',10 ** 3)"
   ]
  },
  {
   "cell_type": "markdown",
   "metadata": {},
   "source": [
    "### Supériorité : \n",
    "\n",
    "- 1) parenthèses\n",
    "- 2) Exponentiation\n",
    "- 3) Multiplication ou division\n",
    "- 4) Addition ou soustraction"
   ]
  },
  {
   "cell_type": "code",
   "execution_count": 82,
   "metadata": {},
   "outputs": [
    {
     "name": "stdout",
     "output_type": "stream",
     "text": [
      "36\n"
     ]
    }
   ],
   "source": [
    "# Exemple :\n",
    "x = (1 + 3) * 10 - 2 ** 2\n",
    "print(x)"
   ]
  },
  {
   "cell_type": "markdown",
   "metadata": {},
   "source": [
    "### Comparaison"
   ]
  },
  {
   "cell_type": "code",
   "execution_count": 30,
   "metadata": {
    "scrolled": true
   },
   "outputs": [
    {
     "name": "stdout",
     "output_type": "stream",
     "text": [
      "x égal y? :  False\n",
      "x sup ou égale à y ? :  False\n",
      "x inf ou égale à y? :  True\n",
      "x sup à y? :  False\n",
      "x inf à y? :  True\n"
     ]
    }
   ],
   "source": [
    "x = 1\n",
    "y = 1.5\n",
    "\n",
    "print(\"x égal y? : \",x == y)\n",
    "print(\"x sup ou égale à y ? : \",x >= y)\n",
    "print(\"x inf ou égale à y? : \",x <= y)\n",
    "print(\"x sup à y? : \",x > y)\n",
    "print(\"x inf à y? : \",x < y)"
   ]
  },
  {
   "cell_type": "markdown",
   "metadata": {},
   "source": [
    "### Opérations logiques"
   ]
  },
  {
   "cell_type": "code",
   "execution_count": 31,
   "metadata": {},
   "outputs": [
    {
     "name": "stdout",
     "output_type": "stream",
     "text": [
      "0\n",
      "1\n",
      "1\n"
     ]
    }
   ],
   "source": [
    "a = 1\n",
    "b = 0\n",
    "print(a & b) # AND\n",
    "print(a | b) # OR\n",
    "print(a ^ b) # XOR"
   ]
  },
  {
   "cell_type": "markdown",
   "metadata": {},
   "source": [
    "### Fonctions"
   ]
  },
  {
   "cell_type": "code",
   "execution_count": 32,
   "metadata": {},
   "outputs": [
    {
     "name": "stdout",
     "output_type": "stream",
     "text": [
      "16\n"
     ]
    }
   ],
   "source": [
    "f = lambda x : x ** 2\n",
    "print(f(4))"
   ]
  },
  {
   "cell_type": "markdown",
   "metadata": {},
   "source": [
    "### Instruction if  elif else"
   ]
  },
  {
   "cell_type": "code",
   "execution_count": 33,
   "metadata": {},
   "outputs": [
    {
     "name": "stdout",
     "output_type": "stream",
     "text": [
      "imane\n",
      "name looks good!\n"
     ]
    }
   ],
   "source": [
    "# Exemple :\n",
    "name = input()\n",
    "if len(name) < 3 :\n",
    "    print(\"name must be at least 3 characters\")\n",
    "elif len(name) > 50 :\n",
    "    print('name must be a maximum of 50 characters')\n",
    "else :\n",
    "    print('name looks good!')"
   ]
  },
  {
   "cell_type": "markdown",
   "metadata": {},
   "source": [
    "### Instruction While"
   ]
  },
  {
   "cell_type": "code",
   "execution_count": 34,
   "metadata": {},
   "outputs": [
    {
     "name": "stdout",
     "output_type": "stream",
     "text": [
      "1\n",
      "2\n",
      "3\n",
      "4\n"
     ]
    }
   ],
   "source": [
    "# Exemple \n",
    "i = 1\n",
    "while i < 5 :\n",
    "    print(i)\n",
    "    i += 1"
   ]
  },
  {
   "cell_type": "code",
   "execution_count": 35,
   "metadata": {},
   "outputs": [
    {
     "name": "stdout",
     "output_type": "stream",
     "text": [
      "1\n",
      "2\n",
      "3\n",
      "4\n"
     ]
    }
   ],
   "source": [
    "# Cet exemple est équivalent\n",
    "for i in range(1,5):\n",
    "    print(i)"
   ]
  },
  {
   "cell_type": "code",
   "execution_count": 36,
   "metadata": {},
   "outputs": [
    {
     "name": "stdout",
     "output_type": "stream",
     "text": [
      "10\n",
      "Bravo, vous avez trouvez le nombre secret !\n"
     ]
    }
   ],
   "source": [
    "# Exercice : trouver le nombre secret :\n",
    "secret_num = 10\n",
    "i = 0\n",
    "while i < 3:\n",
    "    num = int(input())\n",
    "    if num == secret_num :\n",
    "        print(\"Bravo, vous avez trouvez le nombre secret !\")\n",
    "        break\n",
    "    else :\n",
    "        print(\"Répéter\")\n",
    "        i = i+1\n",
    "    "
   ]
  },
  {
   "cell_type": "markdown",
   "metadata": {},
   "source": [
    "### élements  :"
   ]
  },
  {
   "cell_type": "code",
   "execution_count": 37,
   "metadata": {},
   "outputs": [
    {
     "name": "stdout",
     "output_type": "stream",
     "text": [
      "P\n",
      "y\n",
      "t\n",
      "h\n",
      "o\n",
      "n\n",
      "Ifkiren\n",
      "Benjid\n",
      "Taouil\n",
      "Badri\n",
      "1\n",
      "3\n",
      "5\n",
      "7\n",
      "9\n"
     ]
    }
   ],
   "source": [
    "# Exemples \n",
    "for i in \"Python\":\n",
    "    print(i)\n",
    "    \n",
    "for i in [\"Ifkiren\",\"Benjid\", \"Taouil\",\"Badri\" ]: \n",
    "    print(i)\n",
    "    \n",
    "for i in range(1,10,2): # range(debut, fin_exclu, pas)\n",
    "    print(i)\n"
   ]
  },
  {
   "cell_type": "markdown",
   "metadata": {},
   "source": [
    "# Listes"
   ]
  },
  {
   "cell_type": "code",
   "execution_count": 38,
   "metadata": {},
   "outputs": [
    {
     "name": "stdout",
     "output_type": "stream",
     "text": [
      "['Badri', 'Ifkiren', 'Benjid', 'Taouil']\n",
      "nom[0] =  Badri\n",
      "nom[1] =  Ifkiren\n",
      "nom[2] =  Benjid\n",
      "nom[3] =  Taouil\n",
      "\n",
      "\n",
      "nom[-1] = Taouil\n",
      "nom[-2] =  Benjid\n",
      "nom[-3] =  Ifkiren\n",
      "nom[-4] =  Badri\n",
      "['Ifkiren', 'Benjid']\n"
     ]
    }
   ],
   "source": [
    "nom = [\"Badri\", \"Ifkiren\",\"Benjid\",\"Taouil\"]\n",
    "print(nom) # print(nom[:])\n",
    "# Extraire les éléments \n",
    "   # (indices +)\n",
    "print(\"nom[0] = \",nom[0])  # 1st element\n",
    "print(\"nom[1] = \",nom[1]) # 2nd element\n",
    "print(\"nom[2] = \",nom[2])  # 3th element\n",
    "print(\"nom[3] = \",nom[3])  # 4th element\n",
    "print(\"\\n\")\n",
    "   # (indices -)\n",
    "print(\"nom[-1] =\",nom[-1]) # dernier element\n",
    "print(\"nom[-2] = \",nom[-2]) # avant dernier element\n",
    "print(\"nom[-3] = \",nom[-3]) \n",
    "print(\"nom[-4] = \",nom[-4])  \n",
    "   # \n",
    "print(nom[-3:-1]) # dernier element_ exclu"
   ]
  },
  {
   "cell_type": "code",
   "execution_count": 39,
   "metadata": {},
   "outputs": [
    {
     "name": "stdout",
     "output_type": "stream",
     "text": [
      "70\n"
     ]
    }
   ],
   "source": [
    "#Write a program to find the largest number in a list\n",
    "numbers = [5,6,70,2,9,0,5]\n",
    "Max = numbers[0]\n",
    "for number in numbers:\n",
    "    if (Max < number):\n",
    "        Max = number\n",
    "print(Max)"
   ]
  },
  {
   "cell_type": "code",
   "execution_count": 40,
   "metadata": {},
   "outputs": [
    {
     "name": "stdout",
     "output_type": "stream",
     "text": [
      "Total : 55\n"
     ]
    }
   ],
   "source": [
    "# Opérations sur une liste :\n",
    "prices = [10, 15, 30]\n",
    "total = 0\n",
    "for price in prices:\n",
    "    total += price\n",
    "print(f\"Total : {total}\")  # print(\"Total\", total)"
   ]
  },
  {
   "cell_type": "markdown",
   "metadata": {},
   "source": [
    "### Matrices (List 2-D)"
   ]
  },
  {
   "cell_type": "code",
   "execution_count": 41,
   "metadata": {},
   "outputs": [
    {
     "data": {
      "text/plain": [
       "1"
      ]
     },
     "execution_count": 41,
     "metadata": {},
     "output_type": "execute_result"
    }
   ],
   "source": [
    "matrice = [\n",
    "            [1,2,3],\n",
    "            [4,5,6],\n",
    "            [7,8,9],\n",
    "          ]\n",
    "\n",
    "# Extraire une ligne \n",
    "matrice[0]  # 0 ligne1 , 1 ligne2, ...\n",
    "# Extraire un element\n",
    "matrice[0][0] # matrice[ligne][colonne]\n"
   ]
  },
  {
   "cell_type": "markdown",
   "metadata": {},
   "source": [
    "### List comprehension\n",
    "\n",
    "insérer une boucle for à l'intérieur d'une liste.\n",
    "\n",
    "Avantages : \n",
    "- écriture dans une seule ligne.\n",
    "- plus professionnelle.\n",
    "- plus rapide\n",
    "\n"
   ]
  },
  {
   "cell_type": "code",
   "execution_count": 93,
   "metadata": {},
   "outputs": [
    {
     "name": "stdout",
     "output_type": "stream",
     "text": [
      "0.0002009868621826172\n",
      "0.00021004676818847656\n"
     ]
    }
   ],
   "source": [
    "# \n",
    "import time \n",
    "import math as m\n",
    "\n",
    "start = time.time()\n",
    "\n",
    "liste_1 = []\n",
    "for i in range(100):\n",
    "    liste_1.append(m.exp(i))\n",
    "    \n",
    "end = time.time()\n",
    "\n",
    "print(end - start)\n",
    "\n",
    "# \n",
    "start2 = time.time()\n",
    "liste_2 = [m.exp(i) for i in range(100)]\n",
    "end2 = time.time()\n",
    "print(end2 - start2)\n"
   ]
  },
  {
   "cell_type": "markdown",
   "metadata": {},
   "source": [
    "### Neested list"
   ]
  },
  {
   "cell_type": "code",
   "execution_count": 43,
   "metadata": {},
   "outputs": [
    {
     "data": {
      "text/plain": [
       "[[0, 1, 2], [0, 1, 2], [0, 1, 2], [0, 1, 2]]"
      ]
     },
     "execution_count": 43,
     "metadata": {},
     "output_type": "execute_result"
    }
   ],
   "source": [
    "liste_3 = [[i for i in range(3)] for j in range(4)]\n",
    "liste_3"
   ]
  },
  {
   "cell_type": "markdown",
   "metadata": {},
   "source": [
    "## Les boucles imbriquées"
   ]
  },
  {
   "cell_type": "code",
   "execution_count": 97,
   "metadata": {},
   "outputs": [
    {
     "name": "stdout",
     "output_type": "stream",
     "text": [
      "0 0;0 1;0 2;1 0;1 1;1 2;2 0;2 1;2 2;3 0;3 1;3 2;xxxxx\n",
      "xx\n",
      "xxxxx\n",
      "xx\n",
      "xx\n"
     ]
    }
   ],
   "source": [
    "# Exemples\n",
    "for x in range(4):\n",
    "    for y in range(3):\n",
    "        print(x,y,end=';')\n",
    "        \n",
    "liste_1 = [5,2,5,2,2] \n",
    "for i in liste_1:\n",
    "    print('x'*i)\n"
   ]
  },
  {
   "cell_type": "markdown",
   "metadata": {},
   "source": [
    "### Fichiers"
   ]
  },
  {
   "cell_type": "markdown",
   "metadata": {},
   "source": [
    "Les modes:\n",
    "- “r” : Ouvre un fichier pour la lecture seulement.\n",
    "- “w” : Ouvre un nouveau fichier pour l’écriture. Si le fichier existe déjà, son ancien contenu sera détruit.\n",
    "- “a” : Ouvre un fichier pour l’ajout de données à la fin du fichier.\n",
    "- “rb” : Ouvre un fichier pour la lecture de données binaires.\n",
    "- “wb” :  Ouvre un fichier pour l’écriture de données binaires."
   ]
  },
  {
   "cell_type": "code",
   "execution_count": 1,
   "metadata": {},
   "outputs": [
    {
     "name": "stdout",
     "output_type": "stream",
     "text": [
      "Bonjour, voici ma première tentative :-)\n"
     ]
    }
   ],
   "source": [
    "# os est un module permet de : écrire, supprimmer, un fichier/un répertoire\n",
    "import os\n",
    "os.getcwd() # Get Current Working Directory\n",
    "os.chdir(\"/home/learning/src4\") # changer le répértoire courrant\n",
    "\n",
    "# Lecture d'un fichier \n",
    "mon_fichier = open(\"fichier.txt\", 'r')\n",
    "mon_fichier\n",
    "# print(os.getcwd())\n",
    "type(mon_fichier)\n",
    "contenu = mon_fichier.read()\n",
    "print(contenu)\n",
    "mon_fichier.close()"
   ]
  },
  {
   "cell_type": "code",
   "execution_count": 46,
   "metadata": {},
   "outputs": [
    {
     "name": "stdout",
     "output_type": "stream",
     "text": [
      "Bonjour, voici ma première tentative :-)\n"
     ]
    },
    {
     "data": {
      "text/plain": [
       "True"
      ]
     },
     "execution_count": 46,
     "metadata": {},
     "output_type": "execute_result"
    }
   ],
   "source": [
    "# Ecriture dans un fichier\n",
    "mon_fichier = open(\"fichier.txt\" , 'w')\n",
    "mon_fichier.write(\"Bonjour, voici ma première tentative :-)\")\n",
    "mon_fichier.close()  # fermer fichier\n",
    "\n",
    "# lecture après écriture\n",
    "mon_fichier = open(\"fichier.txt\", 'r')\n",
    "contenu = mon_fichier.read()\n",
    "print(contenu)\n",
    "mon_fichier.close()\n",
    "mon_fichier.closed"
   ]
  },
  {
   "cell_type": "markdown",
   "metadata": {},
   "source": [
    "## Méthode 2 : with\n",
    "- Le mot-clé **with**:\n",
    "\n",
    "permet de créer un \"context manager\" (gestionnaire de contexte) qui vérifie que le fichier est ouvert et fermé, même si des erreurs se produisent pendant le bloc.\n",
    "\n",
    "La fermeture du fichier : automatique."
   ]
  },
  {
   "cell_type": "code",
   "execution_count": 47,
   "metadata": {},
   "outputs": [
    {
     "name": "stdout",
     "output_type": "stream",
     "text": [
      "Bonjour, voici ma première tentative :-)\n"
     ]
    },
    {
     "data": {
      "text/plain": [
       "True"
      ]
     },
     "execution_count": 47,
     "metadata": {},
     "output_type": "execute_result"
    }
   ],
   "source": [
    "with open('fichier.txt','r') as mon_fichier:\n",
    "    texte = mon_fichier.read()\n",
    "    print(texte)\n",
    "    \n",
    "mon_fichier.closed # vérifier si le fichier est refermé"
   ]
  },
  {
   "cell_type": "markdown",
   "metadata": {},
   "source": [
    "### Enregistrer des objets dans un fichier\n",
    "\n",
    "En utilisant le module **pickle**, on peut enregistrer et récupérer un objet dans et à partir d'un fichier."
   ]
  },
  {
   "cell_type": "code",
   "execution_count": 116,
   "metadata": {},
   "outputs": [
    {
     "name": "stdout",
     "output_type": "stream",
     "text": [
      "<_pickle.Unpickler object at 0x7f25ac2e6710>\n",
      "{'data1': 0, 'data2': 1, 'data3': 2, 'data4': 3}\n"
     ]
    }
   ],
   "source": [
    "# importer pickle : \n",
    "import pickle\n",
    "\n",
    "remplissage = {\n",
    "    \"data1\" : 0,\n",
    "    \"data2\" : 1,\n",
    "    \"data3\" : 2,\n",
    "    \"data4\" : 3,\n",
    "}\n",
    "\n",
    "with open('/home/learning/dataset1','wb') as file_data :\n",
    "    mon_pickler = pickle.Pickler(file_data) # enregistrement\n",
    "    mon_pickler.dump(remplissage)\n",
    "    \n",
    "with open('/home/learning/dataset1', 'rb') as fichier:\n",
    "    mon_depickler = pickle.Unpickler(fichier)\n",
    "    # Lecture des objets contenus dans le fichier...\n",
    "    recuperer =  mon_depickler.load()\n",
    "    print(mon_depickler)\n",
    "    print( recuperer)\n",
    "    "
   ]
  },
  {
   "cell_type": "markdown",
   "metadata": {},
   "source": [
    "# Dictionnaires"
   ]
  },
  {
   "cell_type": "markdown",
   "metadata": {},
   "source": [
    "un dictionnaire est une manière de structurer les données , sous forme d'un ensemble d'affectation. c-à-d affecter à chaque **clé** une **valeur**, (pas d'indextion).\n",
    "Au machine learning ou en deep learning , un dictionnaire est utilisé pour stocker des pramètres des réseaux de neurones.\n",
    "\n",
    "Dans un dictionnaire , chaque clé est **unique**.\n",
    "Par contre on peut avoir autant de valeur qui se répète le long du dictionnaire."
   ]
  },
  {
   "cell_type": "code",
   "execution_count": 49,
   "metadata": {},
   "outputs": [
    {
     "data": {
      "text/plain": [
       "{}"
      ]
     },
     "execution_count": 49,
     "metadata": {},
     "output_type": "execute_result"
    }
   ],
   "source": [
    "# créer un dictionnaire:\n",
    "a = {}\n",
    "# ou \n",
    "a = dict()\n",
    "a"
   ]
  },
  {
   "cell_type": "code",
   "execution_count": 2,
   "metadata": {},
   "outputs": [
    {
     "name": "stdout",
     "output_type": "stream",
     "text": [
      "{0: 'dog', 1: 'cat', 2: 'bird', 3: 'mouse'}\n",
      "{'pommes': 2000, 'bananes': 5000, 'poires': 8500, 'abricots': 2500}\n"
     ]
    }
   ],
   "source": [
    "# exemple :\n",
    "dictionnaire_1 = {\n",
    "    0 : \"dog\",\n",
    "    1 : \"cat\",\n",
    "    2: \"bird\",\n",
    "    3 : \"mouse\"\n",
    "}\n",
    "print(dictionnaire_1 )\n",
    "\n",
    "dictionnaire_2 = {\n",
    "    \"pommes\" : 2000,\n",
    "    \"bananes\" : 5000,\n",
    "    \"poires\" : 8500,\n",
    "    \"abricots\" : 2500\n",
    "} \n",
    "print(dictionnaire_2)"
   ]
  },
  {
   "cell_type": "code",
   "execution_count": 51,
   "metadata": {},
   "outputs": [
    {
     "data": {
      "text/plain": [
       "{'nom': 'Badri', 'prénom': 'imane'}"
      ]
     },
     "execution_count": 51,
     "metadata": {},
     "output_type": "execute_result"
    }
   ],
   "source": [
    "# Ajouter une valeur à un dictionnaire \n",
    "a = {}\n",
    "a[\"nom\"] = \"Badri\"\n",
    "a[\"prénom\"] = \"imane\"\n",
    "a"
   ]
  },
  {
   "cell_type": "code",
   "execution_count": 52,
   "metadata": {},
   "outputs": [
    {
     "name": "stdout",
     "output_type": "stream",
     "text": [
      "None\n",
      "-------------\n",
      "default\n"
     ]
    }
   ],
   "source": [
    "# Vérifier l'existence d'une valeur dans un dictionnaire\n",
    "print(a.get(\"i\"))\n",
    "# None est une valeur par défaut.\n",
    "print(\"-------------\")\n",
    "# on peut changer cette valeur par défaut \n",
    "print(a.get(\"i\",\"default\"))"
   ]
  },
  {
   "cell_type": "code",
   "execution_count": 122,
   "metadata": {},
   "outputs": [
    {
     "data": {
      "text/plain": [
       "dict_values([2000, 5000, 8500, 2500])"
      ]
     },
     "execution_count": 122,
     "metadata": {},
     "output_type": "execute_result"
    }
   ],
   "source": [
    "# Récupérer les valeurs dans un dictionnaire\n",
    "inventaire.values()"
   ]
  },
  {
   "cell_type": "code",
   "execution_count": 54,
   "metadata": {},
   "outputs": [
    {
     "data": {
      "text/plain": [
       "dict_keys(['nom', 'prénom'])"
      ]
     },
     "execution_count": 54,
     "metadata": {},
     "output_type": "execute_result"
    }
   ],
   "source": [
    "# Afficher les clés dans un dictionnaire\n",
    "a.keys()"
   ]
  },
  {
   "cell_type": "code",
   "execution_count": 3,
   "metadata": {},
   "outputs": [
    {
     "data": {
      "text/plain": [
       "{'dict_1': {0: 'dog', 1: 'cat', 2: 'bird', 3: 'mouse'},\n",
       " 'dict_2': {'pommes': 2000, 'bananes': 5000, 'poires': 8500, 'abricots': 2500}}"
      ]
     },
     "execution_count": 3,
     "metadata": {},
     "output_type": "execute_result"
    }
   ],
   "source": [
    "#On peut avoir un Neested dictionnaire (dictionnaire(s) dans un dictionnaire)\n",
    "b = { \n",
    "       \"dict_1\" : dictionnaire_1 ,\n",
    "        \"dict_2\" : dictionnaire_2\n",
    " }\n",
    "b  "
   ]
  },
  {
   "cell_type": "code",
   "execution_count": 7,
   "metadata": {},
   "outputs": [
    {
     "name": "stdout",
     "output_type": "stream",
     "text": [
      "{'pommes': 2000, 'bananes': 5000, 'poires': 8500}\n",
      "pommes\n",
      "bananes\n",
      "poires\n",
      "2000\n",
      "5000\n",
      "8500\n",
      "pommes 2000\n",
      "bananes 5000\n",
      "poires 8500\n"
     ]
    }
   ],
   "source": [
    " dictionnaire_2 = {\n",
    "    \"pommes\" : 2000,\n",
    "    \"bananes\" : 5000,\n",
    "    \"poires\" : 8500,\n",
    "    \"abricots\" : 2500\n",
    "} \n",
    "dictionnaire_2.pop(\"abricots\")\n",
    "print(dictionnaire_2)\n",
    "\n",
    "# Afficher seulement les clés\n",
    "for i in dictionnaire_2 :  # for i in inventaire.keys():\n",
    "    print(i)\n",
    "    \n",
    "# Afficher seulement les valeurs\n",
    "for i in dictionnaire_2.values():\n",
    "    print(i)\n",
    "    \n",
    "# Afficher les deux :\n",
    "for k,v in dictionnaire_2.items():\n",
    "    print(k,v)\n"
   ]
  },
  {
   "cell_type": "markdown",
   "metadata": {},
   "source": [
    "### Fonctions utiles dans le machine learning\n",
    "\n",
    "- abs()\n",
    "- min()\n",
    "- max()\n",
    "- sum()\n",
    "\n",
    "- all()\n",
    "- any()\n",
    "\n",
    "- bin()\n",
    "- oct()\n",
    "- bytes()\n",
    "\n",
    "- float()\n",
    "- int()\n",
    "- hex()\n",
    "- str()\n",
    "\n",
    "- input()\n",
    "- print()\n",
    "- type()\n",
    "- len()\n",
    "- set()\n",
    "\n",
    "- dict()\n",
    "- tuple()\n",
    "- list()\n",
    "\n",
    "- format()\n"
   ]
  },
  {
   "cell_type": "markdown",
   "metadata": {},
   "source": [
    "### Dictionnaire comprehension"
   ]
  },
  {
   "cell_type": "code",
   "execution_count": 8,
   "metadata": {},
   "outputs": [
    {
     "name": "stdout",
     "output_type": "stream",
     "text": [
      "{0: 'fenetre', 1: 'porte', 2: 'maison'}\n"
     ]
    }
   ],
   "source": [
    "dictionnaire = {\n",
    "    '1' : \"fenetre\",\n",
    "    '2' : \"porte\",\n",
    "    '3': 'maison'    \n",
    "}\n",
    "\n",
    "element = [\"fenetre\",\"porte\", \"maison\"]\n",
    "\n",
    "dictio = { k:v for k,v in enumerate(element)}\n",
    "print(dictio)\n"
   ]
  }
 ],
 "metadata": {
  "kernelspec": {
   "display_name": "Python 3",
   "language": "python",
   "name": "python3"
  },
  "language_info": {
   "codemirror_mode": {
    "name": "ipython",
    "version": 3
   },
   "file_extension": ".py",
   "mimetype": "text/x-python",
   "name": "python",
   "nbconvert_exporter": "python",
   "pygments_lexer": "ipython3",
   "version": "3.7.4"
  }
 },
 "nbformat": 4,
 "nbformat_minor": 2
}
